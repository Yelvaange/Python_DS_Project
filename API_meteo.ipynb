{
 "cells": [
  {
   "cell_type": "code",
   "execution_count": 1,
   "id": "1220e5f7-6eda-46be-9015-0917e7a0ac2f",
   "metadata": {},
   "outputs": [],
   "source": [
    "import requests\n",
    "import pandas as pd\n",
    "\n",
    "# URL de base pour accéder à l'API\n",
    "base_url = \"https://public.opendatasoft.com/api/explore/v2.1\"\n",
    "\n",
    "# Chemin pour accéder aux enregistrements du dataset\n",
    "dataset_path = \"/catalog/datasets/donnees-synop-essentielles-omm/exports/json?lang=fr&timezone=Europe%2FBerlin\"\n",
    "\n",
    "# Construction de l'URL complète\n",
    "url = f\"{base_url}{dataset_path}\"\n",
    "\n",
    "# Exécution de la requête GET\n",
    "response = requests.get(url)\n",
    "\n",
    "# Vérification si la requête a réussi\n",
    "if response.status_code == 200:\n",
    "    # Extraction des données\n",
    "    data = response.json()\n",
    "\n",
    "    # Conversion des résultats en DataFrame\n",
    "    df = pd.DataFrame(data)\n",
    "    df.head()\n",
    "else:\n",
    "    print(f\"Erreur lors de la requête: {response.status_code}\")"
   ]
  },
  {
   "cell_type": "code",
   "execution_count": 4,
   "id": "b10470f6-81b2-4379-bd20-72b6d843fc6b",
   "metadata": {},
   "outputs": [
    {
     "data": {
      "text/plain": [
       "2346459"
      ]
     },
     "execution_count": 4,
     "metadata": {},
     "output_type": "execute_result"
    }
   ],
   "source": [
    "len(df)"
   ]
  },
  {
   "cell_type": "code",
   "execution_count": 5,
   "id": "3161d943-8b34-40be-8682-cc61bbc8b62b",
   "metadata": {},
   "outputs": [],
   "source": [
    "df.to_csv('data_meteo.csv', index=False)"
   ]
  },
  {
   "cell_type": "code",
   "execution_count": 6,
   "id": "b30daba4-9d07-49c2-b877-cb5d1dbb36a4",
   "metadata": {},
   "outputs": [
    {
     "data": {
      "text/plain": [
       "Index(['numer_sta', 'date', 'pmer', 'tend', 'cod_tend', 'dd', 'ff', 't', 'td',\n",
       "       'u', 'vv', 'ww', 'w1', 'w2', 'n', 'nbas', 'hbas', 'cl', 'cm', 'ch',\n",
       "       'pres', 'niv_bar', 'geop', 'tend24', 'tn12', 'tn24', 'tx12', 'tx24',\n",
       "       'tminsol', 'sw', 'tw', 'raf10', 'rafper', 'per', 'etat_sol', 'ht_neige',\n",
       "       'ssfrai', 'perssfrai', 'rr1', 'rr3', 'rr6', 'rr12', 'rr24', 'phenspe1',\n",
       "       'phenspe2', 'phenspe3', 'phenspe4', 'nnuage1', 'ctype1', 'hnuage1',\n",
       "       'nnuage2', 'ctype2', 'hnuage2', 'nnuage3', 'ctype3', 'hnuage3',\n",
       "       'nnuage4', 'ctype4', 'hnuage4', 'coordonnees', 'nom',\n",
       "       'type_de_tendance_barometrique', 'temps_passe_1', 'temps_present', 'tc',\n",
       "       'tn12c', 'tn24c', 'tx12c', 'tx24c', 'tminsolc', 'latitude', 'longitude',\n",
       "       'altitude', 'libgeo', 'codegeo', 'nom_epci', 'code_epci', 'nom_dept',\n",
       "       'code_dep', 'nom_reg', 'code_reg', 'mois_de_l_annee'],\n",
       "      dtype='object')"
      ]
     },
     "execution_count": 6,
     "metadata": {},
     "output_type": "execute_result"
    }
   ],
   "source": [
    "df.columns"
   ]
  },
  {
   "cell_type": "code",
   "execution_count": 18,
   "id": "ee32286b-c10f-4485-a90b-4905720a0482",
   "metadata": {},
   "outputs": [
    {
     "data": {
      "text/plain": [
       "611249            {'lon': 3.764, 'lat': 45.0745}\n",
       "759784          {'lon': 4.733, 'lat': 44.581167}\n",
       "866906         {'lon': 5.077833, 'lat': 45.7265}\n",
       "1217336      {'lon': 3.149333, 'lat': 45.786833}\n",
       "248351       {'lon': 3.149333, 'lat': 45.786833}\n",
       "                           ...                  \n",
       "1459260       {'lon': 42.712, 'lat': -17.054667}\n",
       "1459262      {'lon': 51.856667, 'lat': -46.4325}\n",
       "1559873    {'lon': 77.569167, 'lat': -37.795167}\n",
       "1802699      {'lon': 140.001, 'lat': -66.663167}\n",
       "2297822    {'lon': 47.289667, 'lat': -11.582667}\n",
       "Name: coordonnees, Length: 2346459, dtype: object"
      ]
     },
     "execution_count": 18,
     "metadata": {},
     "output_type": "execute_result"
    }
   ],
   "source": [
    "df['coordonnees']"
   ]
  },
  {
   "cell_type": "code",
   "execution_count": 10,
   "id": "8e9e15df-4dec-42c4-a12b-ae9e96e32bc1",
   "metadata": {},
   "outputs": [],
   "source": [
    "df = df.sort_values(by=['nom_reg', 'date'])"
   ]
  },
  {
   "cell_type": "code",
   "execution_count": 17,
   "id": "b9db87d4-bb65-4dad-ad5d-f5ae949dbffa",
   "metadata": {},
   "outputs": [
    {
     "data": {
      "text/plain": [
       "numer_sta               0\n",
       "date                    0\n",
       "pmer               116584\n",
       "tend               196486\n",
       "cod_tend           223827\n",
       "                    ...  \n",
       "nom_dept           242093\n",
       "code_dep           242093\n",
       "nom_reg            242093\n",
       "code_reg           242093\n",
       "mois_de_l_annee         0\n",
       "Length: 82, dtype: int64"
      ]
     },
     "execution_count": 17,
     "metadata": {},
     "output_type": "execute_result"
    }
   ],
   "source": [
    "df.isnull().sum()"
   ]
  },
  {
   "cell_type": "code",
   "execution_count": 13,
   "id": "b95f8269-d432-4f95-bd91-4c45c2f155e1",
   "metadata": {},
   "outputs": [
    {
     "data": {
      "text/html": [
       "<div>\n",
       "<style scoped>\n",
       "    .dataframe tbody tr th:only-of-type {\n",
       "        vertical-align: middle;\n",
       "    }\n",
       "\n",
       "    .dataframe tbody tr th {\n",
       "        vertical-align: top;\n",
       "    }\n",
       "\n",
       "    .dataframe thead th {\n",
       "        text-align: right;\n",
       "    }\n",
       "</style>\n",
       "<table border=\"1\" class=\"dataframe\">\n",
       "  <thead>\n",
       "    <tr style=\"text-align: right;\">\n",
       "      <th></th>\n",
       "      <th>numer_sta</th>\n",
       "      <th>date</th>\n",
       "      <th>pmer</th>\n",
       "      <th>tend</th>\n",
       "      <th>cod_tend</th>\n",
       "      <th>dd</th>\n",
       "      <th>ff</th>\n",
       "      <th>t</th>\n",
       "      <th>td</th>\n",
       "      <th>u</th>\n",
       "      <th>...</th>\n",
       "      <th>altitude</th>\n",
       "      <th>libgeo</th>\n",
       "      <th>codegeo</th>\n",
       "      <th>nom_epci</th>\n",
       "      <th>code_epci</th>\n",
       "      <th>nom_dept</th>\n",
       "      <th>code_dep</th>\n",
       "      <th>nom_reg</th>\n",
       "      <th>code_reg</th>\n",
       "      <th>mois_de_l_annee</th>\n",
       "    </tr>\n",
       "  </thead>\n",
       "  <tbody>\n",
       "    <tr>\n",
       "      <th>611249</th>\n",
       "      <td>07471</td>\n",
       "      <td>2010-01-01T01:00:00+01:00</td>\n",
       "      <td>NaN</td>\n",
       "      <td>-130.0</td>\n",
       "      <td>8</td>\n",
       "      <td>0.0</td>\n",
       "      <td>0.0</td>\n",
       "      <td>277.05</td>\n",
       "      <td>275.85</td>\n",
       "      <td>92.0</td>\n",
       "      <td>...</td>\n",
       "      <td>833</td>\n",
       "      <td>Chaspuzac</td>\n",
       "      <td>43062</td>\n",
       "      <td>CA du Puy-en-Velay</td>\n",
       "      <td>200073419</td>\n",
       "      <td>Haute-Loire</td>\n",
       "      <td>43</td>\n",
       "      <td>Auvergne-Rhône-Alpes</td>\n",
       "      <td>84</td>\n",
       "      <td>1</td>\n",
       "    </tr>\n",
       "    <tr>\n",
       "      <th>759784</th>\n",
       "      <td>07577</td>\n",
       "      <td>2010-01-01T01:00:00+01:00</td>\n",
       "      <td>99050.0</td>\n",
       "      <td>-150.0</td>\n",
       "      <td>7</td>\n",
       "      <td>360.0</td>\n",
       "      <td>2.1</td>\n",
       "      <td>280.45</td>\n",
       "      <td>279.85</td>\n",
       "      <td>96.0</td>\n",
       "      <td>...</td>\n",
       "      <td>73</td>\n",
       "      <td>Montélimar</td>\n",
       "      <td>26198</td>\n",
       "      <td>CA Montélimar Agglomération</td>\n",
       "      <td>200040459</td>\n",
       "      <td>Drôme</td>\n",
       "      <td>26</td>\n",
       "      <td>Auvergne-Rhône-Alpes</td>\n",
       "      <td>84</td>\n",
       "      <td>1</td>\n",
       "    </tr>\n",
       "    <tr>\n",
       "      <th>866906</th>\n",
       "      <td>07481</td>\n",
       "      <td>2010-01-01T01:00:00+01:00</td>\n",
       "      <td>99080.0</td>\n",
       "      <td>-120.0</td>\n",
       "      <td>6</td>\n",
       "      <td>0.0</td>\n",
       "      <td>0.0</td>\n",
       "      <td>280.65</td>\n",
       "      <td>278.75</td>\n",
       "      <td>88.0</td>\n",
       "      <td>...</td>\n",
       "      <td>235</td>\n",
       "      <td>Colombier-Saugnieu</td>\n",
       "      <td>69299</td>\n",
       "      <td>CC de l'Est Lyonnais (CCEL)</td>\n",
       "      <td>246900575</td>\n",
       "      <td>Rhône</td>\n",
       "      <td>69</td>\n",
       "      <td>Auvergne-Rhône-Alpes</td>\n",
       "      <td>84</td>\n",
       "      <td>1</td>\n",
       "    </tr>\n",
       "    <tr>\n",
       "      <th>1217336</th>\n",
       "      <td>07460</td>\n",
       "      <td>2010-01-01T01:00:00+01:00</td>\n",
       "      <td>99060.0</td>\n",
       "      <td>-100.0</td>\n",
       "      <td>7</td>\n",
       "      <td>0.0</td>\n",
       "      <td>0.0</td>\n",
       "      <td>279.65</td>\n",
       "      <td>279.35</td>\n",
       "      <td>98.0</td>\n",
       "      <td>...</td>\n",
       "      <td>331</td>\n",
       "      <td>Clermont-Ferrand</td>\n",
       "      <td>63113</td>\n",
       "      <td>Clermont Auvergne Métropole</td>\n",
       "      <td>246300701</td>\n",
       "      <td>Puy-de-Dôme</td>\n",
       "      <td>63</td>\n",
       "      <td>Auvergne-Rhône-Alpes</td>\n",
       "      <td>84</td>\n",
       "      <td>1</td>\n",
       "    </tr>\n",
       "    <tr>\n",
       "      <th>248351</th>\n",
       "      <td>07460</td>\n",
       "      <td>2010-01-01T04:00:00+01:00</td>\n",
       "      <td>98990.0</td>\n",
       "      <td>-70.0</td>\n",
       "      <td>6</td>\n",
       "      <td>140.0</td>\n",
       "      <td>1.0</td>\n",
       "      <td>279.25</td>\n",
       "      <td>278.95</td>\n",
       "      <td>98.0</td>\n",
       "      <td>...</td>\n",
       "      <td>331</td>\n",
       "      <td>Clermont-Ferrand</td>\n",
       "      <td>63113</td>\n",
       "      <td>Clermont Auvergne Métropole</td>\n",
       "      <td>246300701</td>\n",
       "      <td>Puy-de-Dôme</td>\n",
       "      <td>63</td>\n",
       "      <td>Auvergne-Rhône-Alpes</td>\n",
       "      <td>84</td>\n",
       "      <td>1</td>\n",
       "    </tr>\n",
       "  </tbody>\n",
       "</table>\n",
       "<p>5 rows × 82 columns</p>\n",
       "</div>"
      ],
      "text/plain": [
       "        numer_sta                       date     pmer   tend cod_tend     dd  \\\n",
       "611249      07471  2010-01-01T01:00:00+01:00      NaN -130.0        8    0.0   \n",
       "759784      07577  2010-01-01T01:00:00+01:00  99050.0 -150.0        7  360.0   \n",
       "866906      07481  2010-01-01T01:00:00+01:00  99080.0 -120.0        6    0.0   \n",
       "1217336     07460  2010-01-01T01:00:00+01:00  99060.0 -100.0        7    0.0   \n",
       "248351      07460  2010-01-01T04:00:00+01:00  98990.0  -70.0        6  140.0   \n",
       "\n",
       "          ff       t      td     u  ...  altitude              libgeo codegeo  \\\n",
       "611249   0.0  277.05  275.85  92.0  ...       833           Chaspuzac   43062   \n",
       "759784   2.1  280.45  279.85  96.0  ...        73          Montélimar   26198   \n",
       "866906   0.0  280.65  278.75  88.0  ...       235  Colombier-Saugnieu   69299   \n",
       "1217336  0.0  279.65  279.35  98.0  ...       331    Clermont-Ferrand   63113   \n",
       "248351   1.0  279.25  278.95  98.0  ...       331    Clermont-Ferrand   63113   \n",
       "\n",
       "                            nom_epci  code_epci     nom_dept  code_dep  \\\n",
       "611249            CA du Puy-en-Velay  200073419  Haute-Loire        43   \n",
       "759784   CA Montélimar Agglomération  200040459        Drôme        26   \n",
       "866906   CC de l'Est Lyonnais (CCEL)  246900575        Rhône        69   \n",
       "1217336  Clermont Auvergne Métropole  246300701  Puy-de-Dôme        63   \n",
       "248351   Clermont Auvergne Métropole  246300701  Puy-de-Dôme        63   \n",
       "\n",
       "                      nom_reg code_reg mois_de_l_annee  \n",
       "611249   Auvergne-Rhône-Alpes       84               1  \n",
       "759784   Auvergne-Rhône-Alpes       84               1  \n",
       "866906   Auvergne-Rhône-Alpes       84               1  \n",
       "1217336  Auvergne-Rhône-Alpes       84               1  \n",
       "248351   Auvergne-Rhône-Alpes       84               1  \n",
       "\n",
       "[5 rows x 82 columns]"
      ]
     },
     "execution_count": 13,
     "metadata": {},
     "output_type": "execute_result"
    }
   ],
   "source": [
    "df.head()"
   ]
  },
  {
   "cell_type": "code",
   "execution_count": 16,
   "id": "ea98c62b-3375-4a85-bd73-2c4dcd4612f3",
   "metadata": {},
   "outputs": [
    {
     "name": "stdout",
     "output_type": "stream",
     "text": [
      "numer_sta               0\n",
      "date                    0\n",
      "pmer               116584\n",
      "tend               196486\n",
      "cod_tend           223827\n",
      "                    ...  \n",
      "nom_dept           242093\n",
      "code_dep           242093\n",
      "nom_reg            242093\n",
      "code_reg           242093\n",
      "mois_de_l_annee         0\n",
      "Length: 82, dtype: int64\n"
     ]
    }
   ],
   "source": [
    "print(a) "
   ]
  },
  {
   "cell_type": "code",
   "execution_count": null,
   "id": "bd97262d-e055-4780-ab01-f6def225759d",
   "metadata": {},
   "outputs": [],
   "source": []
  }
 ],
 "metadata": {
  "kernelspec": {
   "display_name": "Python 3 (ipykernel)",
   "language": "python",
   "name": "python3"
  },
  "language_info": {
   "codemirror_mode": {
    "name": "ipython",
    "version": 3
   },
   "file_extension": ".py",
   "mimetype": "text/x-python",
   "name": "python",
   "nbconvert_exporter": "python",
   "pygments_lexer": "ipython3",
   "version": "3.11.4"
  }
 },
 "nbformat": 4,
 "nbformat_minor": 5
}
